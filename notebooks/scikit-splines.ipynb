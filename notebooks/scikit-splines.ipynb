{
 "cells": [
  {
   "cell_type": "code",
   "execution_count": null,
   "id": "155f24ea",
   "metadata": {},
   "outputs": [],
   "source": [
    "import matplotlib.pyplot as plt\n",
    "import numpy as np\n",
    "from sklearn.model_selection import cross_val_score\n",
    "\n",
    "from sklearn.model_selection import train_test_split\n",
    "\n",
    "\n",
    "from sklearn.linear_model import Ridge\n",
    "from sklearn.pipeline import make_pipeline\n",
    "from sklearn.preprocessing import PolynomialFeatures, SplineTransformer\n",
    "\n",
    "import pandas as pd"
   ]
  },
  {
   "cell_type": "code",
   "execution_count": null,
   "id": "a59d7ccd",
   "metadata": {},
   "outputs": [],
   "source": [
    "def f(x):\n",
    "    \"\"\"Function to be approximated by polynomial interpolation.\"\"\"\n",
    "    return x * np.sin(x)\n",
    "def foo(sigma, num, seed=787):\n",
    "    rng = np.random.default_rng(seed=787)\n",
    "\n",
    "    X = np.sort(rng.uniform(0,10, num).reshape(-1,1),axis=0)\n",
    "    error = rng.normal(0, sigma, num).reshape(-1,1)\n",
    "    Y = f(X) + error \n",
    "    df = pd.DataFrame({'X': X.flatten(), 'Y': Y.flatten()})\n",
    "    return df\n",
    "\n",
    "df = foo(1.5, 1000)\n",
    "\n",
    "# whole range we want to plot\n",
    "x_population = np.linspace(0, 10, 100)\n",
    "x_population = np.sort(x_population).reshape(-1,1)\n",
    "\n",
    "fig, ax = plt.subplots()\n",
    "\n",
    "ax.plot(x_population, f(x_population), linewidth=2, label=\"ground truth\", color=\"red\")\n",
    "ax.scatter(df[\"X\"], df[\"Y\"], linewidth=2, label=\"Data Sample\",color=\"blue\")\n",
    "ax.legend()\n",
    "\n",
    "plt.show()"
   ]
  },
  {
   "cell_type": "code",
   "execution_count": null,
   "id": "13049544",
   "metadata": {},
   "outputs": [],
   "source": [
    "X_train, X_test, Y_train, Y_test = train_test_split(\n",
    "    df[\"X\"],\n",
    "    df[\"Y\"],\n",
    "    train_size=0.8, \n",
    "    random_state=787\n",
    "    )\n",
    "\n",
    "df_train = pd.DataFrame({'X': X_train, 'Y': Y_train}).sort_values(\"X\").reset_index(drop=True)\n",
    "df_test = pd.DataFrame({'X': X_test, 'Y': Y_test}).sort_values(\"X\").reset_index(drop=True)\n",
    "\n",
    "# Plot of training and test data\n",
    "fig, ax = plt.subplots()\n",
    "ax.scatter(df_train[\"X\"], df_train[\"Y\"], linewidth=2, label=\"Training Data\")\n",
    "ax.scatter(df_test[\"X\"], df_test[\"Y\"], linewidth=2, label=\"Test Data\")\n",
    "ax.legend()\n",
    "plt.show()"
   ]
  },
  {
   "cell_type": "code",
   "execution_count": null,
   "id": "6a86ccee",
   "metadata": {},
   "outputs": [],
   "source": [
    "fig, ax = plt.subplots()\n",
    "ax.set_prop_cycle(\n",
    "    color=[\"black\", \"teal\", \"yellowgreen\", \"gold\", \"darkorange\", \"tomato\"]\n",
    ")\n",
    "\n",
    "ax.plot(x_population, f(x_population), linewidth=2, label=\"ground truth\",color=\"red\")\n",
    "ax.scatter(X_train, Y_train, linewidth=2, label=\"Training Data\")\n",
    "# ax.scatter(x_test, y_test, linewidth=2, label=\"Test Data\")\n",
    "\n",
    "for degree in [3,4,5]:\n",
    "    model = make_pipeline(PolynomialFeatures(degree), Ridge(alpha=1e-3))\n",
    "    model.fit(df_train[\"X\"].values.reshape(-1,1), df_train[\"Y\"].values.reshape(-1,1))\n",
    "\n",
    "    # Evaluate the models using crossvalidation\n",
    "    # scores = cross_val_score(\n",
    "    #     model, X_test, y_test, scoring=\"neg_mean_squared_error\", cv=10\n",
    "    # )\n",
    "    # print(scores.mean().item())\n",
    "    df_test[f\"y_hat_{degree}\"] = model.predict(df_test[\"X\"].values.reshape(-1,1))\n",
    "\n",
    "    ax.plot(df_test[\"X\"], df_test[f\"y_hat_{degree}\"], label=f\"degree {degree}\")\n",
    "\n",
    "ax.legend()\n",
    "plt.show()"
   ]
  },
  {
   "cell_type": "code",
   "execution_count": null,
   "id": "73056e50",
   "metadata": {},
   "outputs": [],
   "source": [
    "model = make_pipeline(PolynomialFeatures(degree), Ridge(alpha=1e-3))\n",
    "model.fit(df_train[\"X\"].values.reshape(-1,1), df_train[\"Y\"].values.reshape(-1,1))\n",
    "\n",
    "df"
   ]
  },
  {
   "cell_type": "code",
   "execution_count": null,
   "id": "c37ec52b",
   "metadata": {},
   "outputs": [],
   "source": [
    "fig, ax = plt.subplots()\n",
    "\n",
    "ax.plot(x_population, f(x_population), linewidth=2, label=\"ground truth\")\n",
    "ax.scatter(x_train, y_train, linewidth=2, label=\"Training Data\")\n",
    "ax.scatter(x_test, y_test, linewidth=2, label=\"Test Data\")\n",
    "\n",
    "model = make_pipeline(SplineTransformer(n_knots=4, degree=3), Ridge(alpha=1e-3))\n",
    "model.fit(X_train, y_train)\n",
    "# Evaluate the models using crossvalidation\n",
    "scores = cross_val_score(\n",
    "        model, X_test, y_test, scoring=\"neg_mean_squared_error\", cv=10\n",
    "    )\n",
    "print(scores.mean().item())\n",
    "\n",
    "y_plot = (model.predict(x_population)).reshape(-1,1)\n",
    "\n",
    "ax.plot(x_population, y_plot, label=\"B-spline\")"
   ]
  },
  {
   "cell_type": "code",
   "execution_count": null,
   "id": "ca45322d",
   "metadata": {},
   "outputs": [],
   "source": [
    "# plot function\n",
    "lw = 2\n",
    "fig, ax = plt.subplots()\n",
    "ax.set_prop_cycle(\n",
    "    color=[\"black\", \"teal\", \"yellowgreen\", \"gold\", \"darkorange\", \"tomato\"]\n",
    ")\n",
    "ax.plot(x_plot, f(x_plot), linewidth=lw, label=\"ground truth\")\n",
    "\n",
    "# plot training points\n",
    "ax.scatter(x_train, y_train, label=\"training points\")\n",
    "\n",
    "# polynomial features\n",
    "for degree in [3, 4, 5]:\n",
    "    model = make_pipeline(PolynomialFeatures(degree), Ridge(alpha=1e-3))\n",
    "    model.fit(X_train, y_train)\n",
    "    y_plot = model.predict(X_plot)\n",
    "    ax.plot(x_plot, y_plot, label=f\"degree {degree}\")\n",
    "\n",
    "ax.legend(loc=\"lower center\")\n",
    "ax.set_ylim(-20, 10)\n",
    "plt.show()"
   ]
  },
  {
   "cell_type": "code",
   "execution_count": null,
   "id": "e1510a55",
   "metadata": {},
   "outputs": [],
   "source": [
    "scores = cross_val_score(\n",
    "        model, x_train, y, scoring=\"neg_mean_squared_error\", cv=10\n",
    "    )"
   ]
  }
 ],
 "metadata": {
  "kernelspec": {
   "display_name": ".venv",
   "language": "python",
   "name": "python3"
  },
  "language_info": {
   "codemirror_mode": {
    "name": "ipython",
    "version": 3
   },
   "file_extension": ".py",
   "mimetype": "text/x-python",
   "name": "python",
   "nbconvert_exporter": "python",
   "pygments_lexer": "ipython3",
   "version": "3.12.11"
  }
 },
 "nbformat": 4,
 "nbformat_minor": 5
}
