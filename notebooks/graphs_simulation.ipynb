{
 "cells": [
  {
   "cell_type": "code",
   "execution_count": null,
   "id": "93e82e06",
   "metadata": {},
   "outputs": [],
   "source": [
    "import os\n",
    "os.chdir(\"..\")"
   ]
  },
  {
   "cell_type": "code",
   "execution_count": null,
   "id": "15db57eb",
   "metadata": {},
   "outputs": [],
   "source": [
    "import matplotlib.pyplot as plt\n",
    "import polars as pl\n",
    "import pandas as pd"
   ]
  },
  {
   "cell_type": "code",
   "execution_count": null,
   "id": "eab465e0",
   "metadata": {},
   "outputs": [],
   "source": [
    "df = pd.read_csv(\"results_raw.csv\")\n",
    "df[[\"bayes_queen_X1\",\"freq_queen_X1\"]]"
   ]
  },
  {
   "cell_type": "code",
   "execution_count": null,
   "id": "0408a73d",
   "metadata": {},
   "outputs": [],
   "source": [
    "plt.hist(df[\"bayes_rook_X1\"],bins=25, color='skyblue', edgecolor='black')\n",
    "plt.axvline(5, color='red', linestyle='dashed', linewidth=1.5);"
   ]
  },
  {
   "cell_type": "code",
   "execution_count": null,
   "id": "d58718d9",
   "metadata": {},
   "outputs": [],
   "source": [
    "plt.hist(df[\"bayes_queen_X1\"],bins=25, color='skyblue', edgecolor='black')\n",
    "plt.axvline(5, color='red', linestyle='dashed', linewidth=1.5);"
   ]
  },
  {
   "cell_type": "code",
   "execution_count": null,
   "id": "4e52bb91",
   "metadata": {},
   "outputs": [],
   "source": [
    "plt.hist(df[\"bayes_knn6_X1\"],bins=25, color='skyblue', edgecolor='black')\n",
    "plt.axvline(5, color='red', linestyle='dashed', linewidth=1.5);"
   ]
  },
  {
   "cell_type": "code",
   "execution_count": null,
   "id": "2a60d306",
   "metadata": {},
   "outputs": [],
   "source": [
    "plt.hist(df[\"freq_queen_X2\"],bins=25, color='skyblue', edgecolor='black')\n",
    "plt.axvline(6, color='red', linestyle='dashed', linewidth=1.5);"
   ]
  },
  {
   "cell_type": "code",
   "execution_count": null,
   "id": "d2376443",
   "metadata": {},
   "outputs": [],
   "source": [
    "plt.hist(df[\"bayes_queen_X2\"],bins=25, color='skyblue', edgecolor='black')\n",
    "plt.axvline(6, color='red', linestyle='dashed', linewidth=1.5);"
   ]
  }
 ],
 "metadata": {
  "kernelspec": {
   "display_name": ".venv",
   "language": "python",
   "name": "python3"
  },
  "language_info": {
   "codemirror_mode": {
    "name": "ipython",
    "version": 3
   },
   "file_extension": ".py",
   "mimetype": "text/x-python",
   "name": "python",
   "nbconvert_exporter": "python",
   "pygments_lexer": "ipython3",
   "version": "3.12.12"
  }
 },
 "nbformat": 4,
 "nbformat_minor": 5
}
