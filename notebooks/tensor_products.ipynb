{
 "cells": [
  {
   "cell_type": "code",
   "execution_count": null,
   "id": "f712424f",
   "metadata": {},
   "outputs": [],
   "source": [
    "import os \n",
    "os.chdir(\"..\")"
   ]
  },
  {
   "cell_type": "code",
   "execution_count": null,
   "id": "0cbf3b5c",
   "metadata": {},
   "outputs": [],
   "source": [
    "import numpy as np\n",
    "import matplotlib.pyplot as plt\n",
    "from sklearn.preprocessing import SplineTransformer\n",
    "from sklearn.linear_model import Ridge\n",
    "import statsmodels.api as sm\n",
    "from itertools import product\n",
    "from patsy import dmatrix\n",
    "from src.data.data_reg import SpatialReg\n",
    "\n",
    "sr = SpatialReg()\n"
   ]
  },
  {
   "cell_type": "code",
   "execution_count": null,
   "id": "1184b949",
   "metadata": {},
   "outputs": [],
   "source": [
    "gdf = sr.spatial_panel(time=100,rho=0.7, seed=787)\n",
    "gdf"
   ]
  },
  {
   "cell_type": "code",
   "execution_count": null,
   "id": "037568cd",
   "metadata": {},
   "outputs": [],
   "source": [
    "formula = \"X_1 + X_2 + X_3 + te(cr(lat, df=6), cr(lon, df=6), constraints='center')\"\n",
    "design = dmatrix(formula, gdf)\n",
    "\n",
    "model = Ridge(alpha=0.01)\n",
    "model.fit(design, gdf[\"y_true\"])\n",
    "\n",
    "gdf['y_tensor'] = model.predict(design)\n"
   ]
  },
  {
   "cell_type": "code",
   "execution_count": null,
   "id": "11e32f98",
   "metadata": {},
   "outputs": [],
   "source": [
    "plt.figure(figsize=(10, 6))\n",
    "plt.plot(gdf[\"y_true\"], gdf['y_tensor'], 'o', label='Data Points')"
   ]
  },
  {
   "cell_type": "code",
   "execution_count": null,
   "id": "559d2e69",
   "metadata": {},
   "outputs": [],
   "source": [
    "\n",
    "column_names = design.design_info.column_names\n",
    "\n",
    "coef = model.coef_\n",
    "\n",
    "coef_dict = dict(zip(column_names, coef))\n",
    "\n",
    "X_vars = ['X_1', 'X_2', 'X_3']\n",
    "X_coefs = {var: coef_dict[var] for var in X_vars}\n",
    "\n",
    "intercept = model.intercept_\n",
    "\n",
    "print(\"Intercept:\", intercept)\n",
    "print(\"Linear coefficients:\")\n",
    "for var, val in X_coefs.items():\n",
    "    print(f\"  {var}: {val:.4f}\")\n"
   ]
  },
  {
   "cell_type": "code",
   "execution_count": null,
   "id": "43f47be1",
   "metadata": {},
   "outputs": [],
   "source": [
    "column_names = design.design_info.column_names\n",
    "\n",
    "coef = model.coef_\n",
    "\n",
    "coef_dict = dict(zip(column_names, coef))\n",
    "coef_dict[\"X_1\"]"
   ]
  },
  {
   "cell_type": "code",
   "execution_count": null,
   "id": "45085a35",
   "metadata": {},
   "outputs": [],
   "source": [
    "fig, ax = plt.subplots(figsize=(10, 8))\n",
    "\n",
    "gdf[gdf[\"time\"] == 0].plot(column='y_tensor', cmap='viridis', legend=True,\n",
    "         ax=ax, markersize=10, edgecolor='black', linewidth=0.2)\n",
    "\n",
    "ax.set_title(\"Smoothed Predictions: te(lat, lon)\")\n",
    "ax.set_axis_off()\n",
    "plt.tight_layout()\n",
    "plt.show()"
   ]
  },
  {
   "cell_type": "code",
   "execution_count": null,
   "id": "7ebd2c64",
   "metadata": {},
   "outputs": [],
   "source": [
    "print(((gdf[\"y_true\"] - gdf[\"y_tensor\"])**2).sum()/ len(gdf))\n",
    "plt.scatter(gdf[\"y_true\"], gdf[\"y_tensor\"]);"
   ]
  },
  {
   "cell_type": "code",
   "execution_count": null,
   "id": "b84672be",
   "metadata": {},
   "outputs": [],
   "source": [
    "xb = gdf[[\"X_1\",\"X_2\",\"X_3\",\"w_rook\"]].values.reshape(-1,4)\n",
    "y_d = gdf[\"y_true\"].values.reshape(-1,1)\n",
    "X = sm.add_constant(xb)\n",
    "results = sm.OLS(y_d, X).fit()\n",
    "print(results.summary())"
   ]
  },
  {
   "cell_type": "code",
   "execution_count": null,
   "id": "69b06d09",
   "metadata": {},
   "outputs": [],
   "source": [
    "gdf[\"ols_rook\"] = results.predict(X)"
   ]
  },
  {
   "cell_type": "code",
   "execution_count": null,
   "id": "1856dd4b",
   "metadata": {},
   "outputs": [],
   "source": [
    "print(((gdf[\"y_true\"] - gdf[\"ols_rook\"])**2).sum()/ len(gdf))\n",
    "plt.scatter(gdf[\"y_true\"], gdf[\"ols_rook\"]);"
   ]
  },
  {
   "cell_type": "code",
   "execution_count": null,
   "id": "7d9ffe2d",
   "metadata": {},
   "outputs": [],
   "source": [
    "xb = gdf[[\"X_1\",\"X_2\",\"X_3\",\"w_queen\"]].values.reshape(-1,4)\n",
    "y_d = gdf[\"y_true\"].values.reshape(-1,1)\n",
    "X = sm.add_constant(xb)\n",
    "results = sm.OLS(y_d, X).fit()\n",
    "print(results.summary())\n",
    "\n",
    "gdf[\"ols_queen\"] = results.predict(X)"
   ]
  },
  {
   "cell_type": "code",
   "execution_count": null,
   "id": "f68762d7",
   "metadata": {},
   "outputs": [],
   "source": [
    "print(((gdf[\"y_true\"] - gdf[\"ols_queen\"])**2).sum()/ len(gdf))\n",
    "plt.scatter(gdf[\"y_true\"], gdf[\"ols_queen\"]);"
   ]
  },
  {
   "cell_type": "code",
   "execution_count": null,
   "id": "a0922ea7",
   "metadata": {},
   "outputs": [],
   "source": [
    "xb = gdf[[\"X_1\",\"X_2\",\"X_3\",\"w_knn6\"]].values.reshape(-1,4)\n",
    "y_d = gdf[\"y_true\"].values.reshape(-1,1)\n",
    "X = sm.add_constant(xb)\n",
    "results = sm.OLS(y_d, X).fit()\n",
    "print(results.summary())\n",
    "\n",
    "gdf[\"ols_knn6\"] = results.predict(X)"
   ]
  },
  {
   "cell_type": "code",
   "execution_count": null,
   "id": "db35fb11",
   "metadata": {},
   "outputs": [],
   "source": [
    "print(((gdf[\"y_true\"] - gdf[\"ols_knn6\"])**2).sum()/ len(gdf))\n",
    "plt.scatter(gdf[\"y_true\"], gdf[\"ols_knn6\"]);"
   ]
  }
 ],
 "metadata": {
  "kernelspec": {
   "display_name": ".venv",
   "language": "python",
   "name": "python3"
  },
  "language_info": {
   "codemirror_mode": {
    "name": "ipython",
    "version": 3
   },
   "file_extension": ".py",
   "mimetype": "text/x-python",
   "name": "python",
   "nbconvert_exporter": "python",
   "pygments_lexer": "ipython3",
   "version": "3.12.12"
  }
 },
 "nbformat": 4,
 "nbformat_minor": 5
}
