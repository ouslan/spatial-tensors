{
 "cells": [
  {
   "cell_type": "markdown",
   "id": "008c2ece",
   "metadata": {},
   "source": [
    "# Generating the spatial data \n",
    "\n",
    "- "
   ]
  },
  {
   "cell_type": "code",
   "execution_count": null,
   "id": "ae5f5df6",
   "metadata": {},
   "outputs": [],
   "source": [
    "from spreg import dgp_lag\n",
    "import numpy as np\n",
    "from pysal.lib import weights\n",
    "from shapely.geometry import Polygon\n",
    "import geopandas as gpd"
   ]
  },
  {
   "cell_type": "code",
   "execution_count": null,
   "id": "918f6034",
   "metadata": {},
   "outputs": [],
   "source": [
    "def spatial_shape(n):\n",
    "    l = np.arange(n)\n",
    "    xs, ys = np.meshgrid(l, l)\n",
    "    polys = []\n",
    "    # Generate polygons\n",
    "    for x, y in zip(xs.flatten(), ys.flatten()):\n",
    "        poly = Polygon([(x, y), (x + 1, y), (x + 1, y + 1), (x, y + 1)])\n",
    "        polys.append(poly)\n",
    "    # Convert to GeoSeries\n",
    "    polys = gpd.GeoSeries(polys)\n",
    "    gdf = gpd.GeoDataFrame(\n",
    "        {\n",
    "            \"geometry\": polys,\n",
    "            \"id\": [\"P-%s\" % str(i).zfill(2) for i in range(len(polys))],\n",
    "        }\n",
    "    )\n",
    "    return gdf\n",
    "\n",
    "gdf = spatial_shape(10)\n",
    "gdf"
   ]
  },
  {
   "cell_type": "code",
   "execution_count": null,
   "id": "8f7450b3",
   "metadata": {},
   "outputs": [],
   "source": [
    "# Number of observations\n",
    "n_obs = len(gdf)\n",
    "\n",
    "# Construct X matrix (with a constant term)\n",
    "X = np.ones((n_obs, 2))\n",
    "X[:, 1] = np.random.normal(size=n_obs)  # Random variable\n",
    "\n",
    "# Define beta coefficients\n",
    "beta = np.array([1, 2])\n",
    "\n",
    "# Compute xb\n",
    "xb = X @ beta\n",
    "xb = xb.reshape(-1, 2)\n",
    "u = np.random.normal(size=n_obs).reshape(-1, 1)\n",
    "xb\n",
    "\n",
    "# wr = weights.contiguity.Queen.from_dataframe(gdf, use_index=False)\n",
    "# wr.transform = \"r\"\n",
    "\n",
    "# y_d = dgp_lag(u, xb, wr, rho=.8)\n",
    "\n",
    "# gdf[\"y_d\"] = y_d\n",
    "\n",
    "# gdf[\"X1\"] = X[:, 1]\n",
    "# gdf[\"w_d\"] = weights.lag_spatial(wr, y_d)\n",
    "# gdf[\"time\"] = 1\n",
    "# gdf"
   ]
  },
  {
   "cell_type": "code",
   "execution_count": null,
   "id": "3cce2b09",
   "metadata": {},
   "outputs": [],
   "source": [
    "import numpy as np\n",
    "\n",
    "from spreg import make_x, make_xb\n",
    "\n",
    "rng = np.random.default_rng(12345)\n",
    "\n",
    "x = make_x(rng,5,mu=[0,1],varu=[1,4])\n",
    "\n",
    "make_xb(x,[1,2,3])"
   ]
  },
  {
   "cell_type": "code",
   "execution_count": null,
   "id": "956706fe",
   "metadata": {},
   "outputs": [],
   "source": [
    "x"
   ]
  },
  {
   "cell_type": "code",
   "execution_count": null,
   "id": "eeba8520",
   "metadata": {},
   "outputs": [],
   "source": []
  }
 ],
 "metadata": {
  "kernelspec": {
   "display_name": ".venv",
   "language": "python",
   "name": "python3"
  },
  "language_info": {
   "codemirror_mode": {
    "name": "ipython",
    "version": 3
   },
   "file_extension": ".py",
   "mimetype": "text/x-python",
   "name": "python",
   "nbconvert_exporter": "python",
   "pygments_lexer": "ipython3",
   "version": "3.12.11"
  }
 },
 "nbformat": 4,
 "nbformat_minor": 5
}
