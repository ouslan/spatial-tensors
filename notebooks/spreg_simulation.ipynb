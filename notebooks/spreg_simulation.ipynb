{
 "cells": [
  {
   "cell_type": "code",
   "execution_count": null,
   "id": "a737e939",
   "metadata": {},
   "outputs": [],
   "source": [
    "import os\n",
    "os.chdir(\"..\")"
   ]
  },
  {
   "cell_type": "code",
   "execution_count": null,
   "id": "30998311",
   "metadata": {},
   "outputs": [],
   "source": [
    "import numpy as np\n",
    "import spreg\n",
    "import libpysal\n",
    "import bambi as bmb\n",
    "import arviz as az\n",
    "import pandas as pd\n",
    "import geopandas as gpd\n",
    "import numpy\n",
    "from pysal.lib import weights\n",
    "import matplotlib.pyplot as plt\n",
    "from shapely.geometry import Polygon\n",
    "from pysal.lib import cg as geometry\n",
    "\n",
    "from spreg import dgp_lag\n",
    "\n",
    "from src.data.data_reg import SpatialReg\n",
    "\n",
    "sr = SpatialReg()\n"
   ]
  },
  {
   "cell_type": "code",
   "execution_count": null,
   "id": "4ab9906c",
   "metadata": {},
   "outputs": [],
   "source": [
    "df = sr.spatial_simulation(n=10,time=5,rho=.8,simulations=10)\n",
    "df"
   ]
  },
  {
   "cell_type": "code",
   "execution_count": null,
   "id": "7f1440c8",
   "metadata": {},
   "outputs": [],
   "source": [
    "sr.results"
   ]
  },
  {
   "cell_type": "code",
   "execution_count": null,
   "id": "70a7681f",
   "metadata": {},
   "outputs": [],
   "source": [
    "import polars as pl\n",
    "(df.select((pl.col(\"bayes_w\")-.8)**2).sum()/10).item()"
   ]
  },
  {
   "cell_type": "code",
   "execution_count": null,
   "id": "019fec0e",
   "metadata": {},
   "outputs": [],
   "source": [
    "df.select((pl.col(\"freq_w\")-.8)**2).sum()/10"
   ]
  },
  {
   "cell_type": "code",
   "execution_count": null,
   "id": "21914f77",
   "metadata": {},
   "outputs": [],
   "source": [
    "gdf = sr.spatial_panel(n=10,time=4,rho=.8)\n",
    "gdf"
   ]
  },
  {
   "cell_type": "code",
   "execution_count": null,
   "id": "12656b8c",
   "metadata": {},
   "outputs": [],
   "source": [
    "wr = weights.contiguity.Rook.from_dataframe(gdf[gdf[\"time\"] == 0])\n",
    "wr.transform = \"r\"\n",
    "y_d = gdf[\"y_d\"].values.reshape(-1,1)\n",
    "xb = gdf[\"X1\"].values.reshape(-1,1)\n",
    "fe_lag = spreg.Panel_FE_Lag(y=y_d, x=xb, w=wr)\n",
    "print(fe_lag.betas[1][0])"
   ]
  },
  {
   "cell_type": "code",
   "execution_count": null,
   "id": "85954951",
   "metadata": {},
   "outputs": [],
   "source": [
    "print(fe_lag.summary)"
   ]
  },
  {
   "cell_type": "code",
   "execution_count": null,
   "id": "1fe5f1c5",
   "metadata": {},
   "outputs": [],
   "source": [
    "import io\n",
    "import contextlib\n",
    "df = gdf.drop(\"geometry\", axis=1)\n",
    "model = bmb.Model(\n",
    "    \"y_d ~ 1 + X1 + w_d\",\n",
    "    df, dropna=True\n",
    ")\n",
    "with contextlib.redirect_stdout(io.StringIO()):\n",
    "    results = model.fit()"
   ]
  },
  {
   "cell_type": "code",
   "execution_count": null,
   "id": "37f0aee0",
   "metadata": {},
   "outputs": [],
   "source": [
    "# betas = fe_lag.betas  # Replace with the actual betas\n",
    "# betas_mean = betas.mean(axis=0)\n",
    "az_summary = az.summary(results, hdi_prob=0.95)  # You can adjust hdi_prob if needed\n",
    "means = az_summary['mean']\n",
    "# Create a dictionary to store both results\n",
    "# Combine both into a DataFrame\n",
    "means.iloc[0]"
   ]
  },
  {
   "cell_type": "code",
   "execution_count": null,
   "id": "a68c1312",
   "metadata": {},
   "outputs": [],
   "source": [
    "az.summary(results)"
   ]
  },
  {
   "cell_type": "code",
   "execution_count": null,
   "id": "a80401e6",
   "metadata": {},
   "outputs": [],
   "source": [
    "df = gdf.drop(\"geometry\", axis=1)\n",
    "model = bmb.Model(\n",
    "    \"y_d ~ 0 + X1 + w_d\",\n",
    "    df, dropna=True\n",
    ")\n",
    "results = model.fit()"
   ]
  },
  {
   "cell_type": "code",
   "execution_count": null,
   "id": "4543c035",
   "metadata": {},
   "outputs": [],
   "source": [
    "az.plot_trace(\n",
    "    results,\n",
    "    compact=True,\n",
    ")"
   ]
  }
 ],
 "metadata": {
  "kernelspec": {
   "display_name": ".venv",
   "language": "python",
   "name": "python3"
  },
  "language_info": {
   "codemirror_mode": {
    "name": "ipython",
    "version": 3
   },
   "file_extension": ".py",
   "mimetype": "text/x-python",
   "name": "python",
   "nbconvert_exporter": "python",
   "pygments_lexer": "ipython3",
   "version": "3.12.9"
  }
 },
 "nbformat": 4,
 "nbformat_minor": 5
}
