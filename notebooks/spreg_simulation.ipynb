{
 "cells": [
  {
   "cell_type": "code",
   "execution_count": 2,
   "id": "30998311",
   "metadata": {},
   "outputs": [
    {
     "ename": "ModuleNotFoundError",
     "evalue": "No module named 'spreg'",
     "output_type": "error",
     "traceback": [
      "\u001b[31m---------------------------------------------------------------------------\u001b[39m",
      "\u001b[31mModuleNotFoundError\u001b[39m                       Traceback (most recent call last)",
      "\u001b[36mCell\u001b[39m\u001b[36m \u001b[39m\u001b[32mIn[2]\u001b[39m\u001b[32m, line 2\u001b[39m\n\u001b[32m      1\u001b[39m \u001b[38;5;28;01mimport\u001b[39;00m\u001b[38;5;250m \u001b[39m\u001b[34;01mnumpy\u001b[39;00m\u001b[38;5;250m \u001b[39m\u001b[38;5;28;01mas\u001b[39;00m\u001b[38;5;250m \u001b[39m\u001b[34;01mnp\u001b[39;00m\n\u001b[32m----> \u001b[39m\u001b[32m2\u001b[39m \u001b[38;5;28;01mimport\u001b[39;00m\u001b[38;5;250m \u001b[39m\u001b[34;01mspreg\u001b[39;00m\n\u001b[32m      3\u001b[39m \u001b[38;5;28;01mimport\u001b[39;00m\u001b[38;5;250m \u001b[39m\u001b[34;01mlibpysal\u001b[39;00m\n\u001b[32m      4\u001b[39m \u001b[38;5;28;01mimport\u001b[39;00m\u001b[38;5;250m \u001b[39m\u001b[34;01mbambi\u001b[39;00m\u001b[38;5;250m \u001b[39m\u001b[38;5;28;01mas\u001b[39;00m\u001b[38;5;250m \u001b[39m\u001b[34;01mbmb\u001b[39;00m\n",
      "\u001b[31mModuleNotFoundError\u001b[39m: No module named 'spreg'"
     ]
    }
   ],
   "source": [
    "import numpy as np\n",
    "import spreg\n",
    "import libpysal\n",
    "import bambi as bmb\n",
    "import arviz as az\n",
    "import pandas as pd\n",
    "import geopandas\n",
    "import numpy\n",
    "from pysal.lib import weights\n",
    "import matplotlib.pyplot as plt\n",
    "from shapely.geometry import Polygon\n",
    "from pysal.lib import cg as geometry\n",
    "\n",
    "from spreg import make_x, make_xb, dgp_lag\n"
   ]
  },
  {
   "cell_type": "code",
   "execution_count": null,
   "id": "37e018ea",
   "metadata": {},
   "outputs": [],
   "source": [
    "# Get points in a grid\n",
    "l = np.arange(5)\n",
    "xs, ys = np.meshgrid(l, l)\n",
    "# Set up store\n",
    "polys = []\n",
    "# Generate polygons\n",
    "for x, y in zip(xs.flatten(), ys.flatten()):\n",
    "    poly = Polygon([(x, y), (x + 1, y), (x + 1, y + 1), (x, y + 1)])\n",
    "    polys.append(poly)\n",
    "# Convert to GeoSeries\n",
    "polys = geopandas.GeoSeries(polys)\n",
    "gdf = geopandas.GeoDataFrame(\n",
    "    {\n",
    "        \"geometry\": polys,\n",
    "        \"id\": [\"P-%s\" % str(i).zfill(2) for i in range(len(polys))],\n",
    "    }\n",
    ")\n",
    "# Build a rook contiguity matrix from a regular 3x3\n",
    "# lattice stored in a geo-table\n",
    "wr = weights.contiguity.Rook.from_dataframe(gdf)"
   ]
  },
  {
   "cell_type": "code",
   "execution_count": null,
   "id": "4b1c7245",
   "metadata": {},
   "outputs": [],
   "source": [
    "pd.DataFrame(*wr.full()).astype(int)"
   ]
  },
  {
   "cell_type": "code",
   "execution_count": null,
   "id": "f22a8a41",
   "metadata": {},
   "outputs": [],
   "source": [
    "rng = np.random.default_rng(12345)\n",
    "rho = .8\n",
    "\n",
    "u = make_x(rng,25,mu=[0],varu=[1], method='normal')\n",
    "\n",
    "x = make_x(rng,25,mu=[0],varu=[1])\n",
    "\n",
    "xb = make_xb(x,[1,2])\n",
    "xb2 = xb\n",
    "# w  = libpysal.weights.lat2W(5, 5)\n",
    "\n",
    "wr.transform = \"r\"\n",
    "\n",
    "y_d = dgp_lag(u, xb, wr,rho=rho)\n",
    "temp1 = weights.lag_spatial(wr,y_d)"
   ]
  },
  {
   "cell_type": "code",
   "execution_count": null,
   "id": "d6130bc1",
   "metadata": {},
   "outputs": [],
   "source": [
    "rng = np.random.default_rng(243)\n",
    "\n",
    "u = make_x(rng,25,mu=[0],varu=[1], method='normal')\n",
    "\n",
    "x = make_x(rng,25,mu=[0],varu=[1])\n",
    "\n",
    "xb = make_xb(x,[1,2])\n",
    "\n",
    "# w  = libpysal.weights.lat2W(5, 5)\n",
    "\n",
    "wr.transform = \"r\"\n",
    "y_d2 = dgp_lag(u, xb, wr, rho=rho)\n",
    "y_d = np.append(y_d,y_d2)\n",
    "xb = np.append(xb2, xb)\n",
    "tmp2 = weights.lag_spatial(wr,y_d2)\n",
    "data_y = np.append(temp1,tmp2)"
   ]
  },
  {
   "cell_type": "code",
   "execution_count": null,
   "id": "85846d7e",
   "metadata": {},
   "outputs": [],
   "source": [
    "y_d = y_d.reshape(-1,1)\n",
    "xb = xb.reshape(-1,1)"
   ]
  },
  {
   "cell_type": "code",
   "execution_count": null,
   "id": "7ed2366e",
   "metadata": {},
   "outputs": [],
   "source": [
    "type(wr)"
   ]
  },
  {
   "cell_type": "code",
   "execution_count": null,
   "id": "8643a602",
   "metadata": {},
   "outputs": [],
   "source": [
    "# weights.lag_spatial(wr,y_d)"
   ]
  },
  {
   "cell_type": "code",
   "execution_count": null,
   "id": "3baa3149",
   "metadata": {},
   "outputs": [],
   "source": [
    "# w  = libpysal.weights.lat2W(5, 5)\n",
    "# wr = weights.contiguity.Rook.from_dataframe(gdf)\n",
    "fe_lag = spreg.Panel_FE_Lag(y=y_d, x=xb, w=wr)\n",
    "print(fe_lag.summary)"
   ]
  },
  {
   "cell_type": "code",
   "execution_count": null,
   "id": "a80401e6",
   "metadata": {},
   "outputs": [],
   "source": [
    "df = pd.DataFrame(y_d, columns=[\"y\"])\n",
    "df[\"w_y\"] = data_y\n",
    "df[\"x\"] = xb\n",
    "model = bmb.Model(\n",
    "    \"y ~ x + w_y\",\n",
    "    df, dropna=True\n",
    ")\n",
    "results = model.fit()"
   ]
  },
  {
   "cell_type": "code",
   "execution_count": null,
   "id": "4543c035",
   "metadata": {},
   "outputs": [],
   "source": [
    "az.plot_trace(\n",
    "    results,\n",
    "    compact=True,\n",
    ")"
   ]
  },
  {
   "cell_type": "code",
   "execution_count": null,
   "id": "9f1775d3",
   "metadata": {},
   "outputs": [],
   "source": [
    "az.summary(results)"
   ]
  }
 ],
 "metadata": {
  "kernelspec": {
   "display_name": ".venv",
   "language": "python",
   "name": "python3"
  },
  "language_info": {
   "codemirror_mode": {
    "name": "ipython",
    "version": 3
   },
   "file_extension": ".py",
   "mimetype": "text/x-python",
   "name": "python",
   "nbconvert_exporter": "python",
   "pygments_lexer": "ipython3",
   "version": "3.12.9"
  }
 },
 "nbformat": 4,
 "nbformat_minor": 5
}
