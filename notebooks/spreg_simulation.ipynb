{
 "cells": [
  {
   "cell_type": "code",
   "execution_count": null,
   "id": "a737e939",
   "metadata": {},
   "outputs": [],
   "source": [
    "import os\n",
    "os.chdir(\"..\")"
   ]
  },
  {
   "cell_type": "code",
   "execution_count": null,
   "id": "30998311",
   "metadata": {},
   "outputs": [],
   "source": [
    "import numpy as np\n",
    "import spreg\n",
    "import libpysal\n",
    "import bambi as bmb\n",
    "import arviz as az\n",
    "import pandas as pd\n",
    "import geopandas as gpd\n",
    "import numpy\n",
    "from pysal.lib import weights\n",
    "import polars as pl\n",
    "import matplotlib.pyplot as plt\n",
    "from shapely.geometry import Polygon\n",
    "from pysal.lib import cg as geometry\n",
    "\n",
    "from spreg import dgp_lag\n",
    "\n",
    "from src.data.data_reg import SpatialReg\n",
    "\n",
    "sr = SpatialReg(n=10)\n"
   ]
  },
  {
   "cell_type": "code",
   "execution_count": null,
   "id": "21914f77",
   "metadata": {},
   "outputs": [],
   "source": [
    "gdf = sr.spatial_panel(n=10,time=4,rho=.8)\n",
    "gdf"
   ]
  },
  {
   "cell_type": "code",
   "execution_count": null,
   "id": "d49535c1",
   "metadata": {},
   "outputs": [],
   "source": [
    "gdf.plot(\"X1\")"
   ]
  },
  {
   "cell_type": "code",
   "execution_count": null,
   "id": "0a122937",
   "metadata": {},
   "outputs": [],
   "source": [
    "gdf.plot(\"y_d\")"
   ]
  },
  {
   "cell_type": "code",
   "execution_count": null,
   "id": "12656b8c",
   "metadata": {},
   "outputs": [],
   "source": [
    "wr = weights.contiguity.Rook.from_dataframe(gdf[gdf[\"time\"] == 0])\n",
    "wr.transform = \"r\"\n",
    "y_d = gdf[\"y_d\"].values.reshape(-1,1)\n",
    "xb = gdf[\"X1\"].values.reshape(-1,1)\n",
    "fe_lag = spreg.Panel_FE_Lag(y=y_d, x=xb, w=wr)\n",
    "print(fe_lag.summary)"
   ]
  },
  {
   "cell_type": "code",
   "execution_count": null,
   "id": "a80401e6",
   "metadata": {},
   "outputs": [],
   "source": [
    "df = gdf.drop(\"geometry\", axis=1)\n",
    "model = bmb.Model(\n",
    "    \"y_d ~ 1 + X1 + w_d\",\n",
    "    df, dropna=True\n",
    ")\n",
    "results = model.fit()"
   ]
  },
  {
   "cell_type": "code",
   "execution_count": null,
   "id": "4543c035",
   "metadata": {},
   "outputs": [],
   "source": [
    "az.plot_trace(\n",
    "    results,\n",
    "    compact=True,\n",
    ")"
   ]
  },
  {
   "cell_type": "code",
   "execution_count": null,
   "id": "4c378272",
   "metadata": {},
   "outputs": [],
   "source": [
    "az.summary(results)"
   ]
  },
  {
   "cell_type": "code",
   "execution_count": null,
   "id": "0e42d778",
   "metadata": {},
   "outputs": [],
   "source": [
    "pl.read_csv(\"sim_results.csv\")"
   ]
  }
 ],
 "metadata": {
  "kernelspec": {
   "display_name": ".venv",
   "language": "python",
   "name": "python3"
  },
  "language_info": {
   "codemirror_mode": {
    "name": "ipython",
    "version": 3
   },
   "file_extension": ".py",
   "mimetype": "text/x-python",
   "name": "python",
   "nbconvert_exporter": "python",
   "pygments_lexer": "ipython3",
   "version": "3.12.9"
  }
 },
 "nbformat": 4,
 "nbformat_minor": 5
}
