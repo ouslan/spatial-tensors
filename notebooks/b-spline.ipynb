{
 "cells": [
  {
   "cell_type": "markdown",
   "id": "6ff965d6",
   "metadata": {},
   "source": [
    "# B-Splines\n",
    "\n"
   ]
  },
  {
   "cell_type": "code",
   "execution_count": null,
   "id": "82198e90",
   "metadata": {},
   "outputs": [],
   "source": [
    "import numpy as np\n",
    "import matplotlib.pyplot as plt\n",
    "from scipy.interpolate import BSpline, make_lsq_spline"
   ]
  },
  {
   "cell_type": "code",
   "execution_count": null,
   "id": "ea63307e",
   "metadata": {},
   "outputs": [],
   "source": [
    "# Basis function using BSpline\n",
    "def B(x, k, i, t):\n",
    "    c = np.zeros(len(t) - k - 1)\n",
    "    c[i] = 1\n",
    "    return BSpline(t, c, k)(x)"
   ]
  },
  {
   "cell_type": "code",
   "execution_count": null,
   "id": "11cf6a8d",
   "metadata": {},
   "outputs": [],
   "source": [
    "# Degree of the spline\n",
    "k = 3\n",
    "rng = np.random.default_rng(787)\n",
    "# Sample non-linear data\n",
    "x_data = np.linspace(0, 5, 15)\n",
    "y_data = np.sin(x_data) + 0.1 * rng.integers(low=0, high=10, size=len(x_data))\n",
    "plt.plot(x_data, y_data, 'o', label='Data Points')\n",
    "plt.grid(True)\n",
    "plt.show()"
   ]
  },
  {
   "cell_type": "code",
   "execution_count": null,
   "id": "e257e329",
   "metadata": {},
   "outputs": [],
   "source": [
    "n_internal_knots = 5\n",
    "\n",
    "# t_internal = np.quantile(x_data, np.linspace(0, 1, n_knots))\n",
    "t_internal = np.quantile(x_data, np.linspace(0, 1, n_internal_knots + 2)[1:-1])\n",
    "\n",
    "t = np.concatenate((\n",
    "    [x_data[0]] * (k + 1),\n",
    "    t_internal,\n",
    "    [x_data[-1]] * (k + 1)\n",
    "))\n",
    "t"
   ]
  },
  {
   "cell_type": "code",
   "execution_count": null,
   "id": "1b5be28b",
   "metadata": {},
   "outputs": [],
   "source": [
    "for knot in t:\n",
    "    plt.axvline(knot, color='gray', linestyle='--', alpha=0.5)\n",
    "plt.plot(x_data, y_data, 'o', label='Data Points')"
   ]
  },
  {
   "cell_type": "code",
   "execution_count": null,
   "id": "ebfec005",
   "metadata": {},
   "outputs": [],
   "source": [
    "# Fit B-spline to data\n",
    "spline = make_lsq_spline(x_data, y_data, t, k)\n",
    "\n",
    "# Dense evaluation grid\n",
    "x_dense = np.linspace(x_data[0], x_data[-1], 1000)\n",
    "y_dense = spline(x_dense)"
   ]
  },
  {
   "cell_type": "code",
   "execution_count": null,
   "id": "ea58da4c",
   "metadata": {},
   "outputs": [],
   "source": [
    "plt.figure(figsize=(10, 6))\n",
    "plt.plot(x_data, y_data, 'o', label='Data Points')\n",
    "plt.plot(x_dense, y_dense, 'r-', label='Fitted B-Spline')\n",
    "\n",
    "for knot in t:\n",
    "    plt.axvline(knot, color='gray', linestyle='--', alpha=0.5)\n",
    "plt.plot(t, spline(t), 'ko', label='Knots')\n",
    "\n",
    "plt.title('B-Spline Fit with Knots and Non-linear Data')\n",
    "plt.legend()\n",
    "plt.grid(True)\n",
    "plt.show()"
   ]
  },
  {
   "cell_type": "code",
   "execution_count": null,
   "id": "b555dd29",
   "metadata": {},
   "outputs": [],
   "source": [
    "plt.figure(figsize=(10, 6))\n",
    "n_basis = len(t) - k - 1\n",
    "for i in range(n_basis):\n",
    "    y = np.array([B(xi, k, i, t) for xi in x_dense])\n",
    "    plt.plot(x_dense, y, label=f'$B_{{{i},{k}}}(x)$')\n",
    "\n",
    "for knot in t:\n",
    "    plt.axvline(knot, color='gray', linestyle='--', alpha=0.3)\n",
    "\n",
    "plt.title(f'B-Spline Basis Functions (k = {k})')\n",
    "plt.xlabel('x')\n",
    "plt.ylabel('Basis Function Value')\n",
    "plt.legend()\n",
    "plt.grid(True)\n",
    "plt.show()"
   ]
  },
  {
   "cell_type": "code",
   "execution_count": null,
   "id": "b01a9b9b",
   "metadata": {},
   "outputs": [],
   "source": [
    "x_start = t[k]      # start of valid domain\n",
    "x_end   = t[k+1]    # end of first segment\n",
    "x_segment = np.linspace(t[k], t[k+1], 200)\n"
   ]
  },
  {
   "cell_type": "code",
   "execution_count": null,
   "id": "ca700ea9",
   "metadata": {},
   "outputs": [],
   "source": [
    "from scipy.interpolate import BSpline\n",
    "\n",
    "basis_values = []\n",
    "\n",
    "for i in range(len(spline.c)):\n",
    "    # Create a basis spline with only 1 coefficient set to 1\n",
    "    coeffs = np.zeros_like(spline.c)\n",
    "    coeffs[i] = 1\n",
    "    B_i = BSpline(t, coeffs, k)\n",
    "    basis_values.append(B_i(x_segment))\n",
    "segment_sum = np.zeros_like(x_segment)\n",
    "for i in range(len(spline.c)):\n",
    "    segment_sum += spline.c[i] * basis_values[i]\n"
   ]
  },
  {
   "cell_type": "code",
   "execution_count": null,
   "id": "89a2177e",
   "metadata": {},
   "outputs": [],
   "source": [
    "plt.figure(figsize=(8, 5))\n",
    "plt.plot(x_segment, segment_sum, label='First Segment Sum (Manual)', color='red')\n",
    "plt.plot(x_segment, spline(x_segment), '--', label='Spline.eval()', color='blue')\n",
    "plt.legend()\n",
    "plt.title(\"First Segment of Spline = Sum of Weighted Basis Functions\")\n",
    "plt.grid(True)\n",
    "plt.show()\n"
   ]
  }
 ],
 "metadata": {
  "kernelspec": {
   "display_name": ".venv",
   "language": "python",
   "name": "python3"
  },
  "language_info": {
   "codemirror_mode": {
    "name": "ipython",
    "version": 3
   },
   "file_extension": ".py",
   "mimetype": "text/x-python",
   "name": "python",
   "nbconvert_exporter": "python",
   "pygments_lexer": "ipython3",
   "version": "3.12.12"
  }
 },
 "nbformat": 4,
 "nbformat_minor": 5
}
