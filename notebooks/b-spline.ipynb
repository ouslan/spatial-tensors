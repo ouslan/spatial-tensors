{
 "cells": [
  {
   "cell_type": "code",
   "execution_count": null,
   "id": "cde86ebe",
   "metadata": {},
   "outputs": [],
   "source": [
    "import numpy as np\n",
    "from scipy.interpolate import make_interp_spline\n",
    "import matplotlib.pyplot as plt"
   ]
  },
  {
   "cell_type": "code",
   "execution_count": null,
   "id": "0808cb0a",
   "metadata": {},
   "outputs": [],
   "source": [
    "# Control points (x, y)\n",
    "x = np.array([0, 1, 2, 3, 4, 5])\n",
    "y = np.array([0, 0.5, 2, 1.5, 1, 2])\n",
    "\n",
    "# Create a B-spline representation of the data\n",
    "spl = make_interp_spline(x, y, k=3)  # k=3 for cubic B-spline\n",
    "\n",
    "# Generate smooth points to plot\n",
    "x_new = np.linspace(x.min(), x.max(), 300)\n",
    "y_new = spl(x_new)\n",
    "\n",
    "# Plotting\n",
    "plt.plot(x, y, 'o', label='Control Points')\n",
    "plt.plot(x_new, y_new, '-', label='B-Spline Curve')\n",
    "plt.legend()\n",
    "plt.title(\"Cubic B-Spline Interpolation\")\n",
    "plt.grid(True)\n",
    "plt.show()\n"
   ]
  },
  {
   "cell_type": "code",
   "execution_count": null,
   "id": "e0db2923",
   "metadata": {},
   "outputs": [],
   "source": [
    "from scipy.interpolate import BSpline\n",
    "\n",
    "def B_orig(x, k, i, t):\n",
    "        if k == 0:\n",
    "                return 1.0 if t[i] <= x < t[i + 1] else 0.0\n",
    "        if t[i + k] == t[i]:\n",
    "                c1 = 0.0\n",
    "        else:\n",
    "                c1 = (x - t[i]) / (t[i + k] - t[i]) * B(x, k - 1, i, t)\n",
    "\n",
    "        if t[i + k + 1] == t[i + 1]:\n",
    "                c2 = 0.0\n",
    "        else:\n",
    "                c2 = (t[i + k + 1] - x) / (t[i + k + 1] - t[i + 1]) * B(x, k - 1, i + 1, t)\n",
    "        return c1 + c2\n",
    "\n",
    "\n",
    "def B(x, k, i, t):\n",
    "        c = np.zeros_like(t)\n",
    "        c[i] = 1\n",
    "        return BSpline(t, c, k)(x)\n",
    "\n",
    "\n",
    "def main():\n",
    "        k = 2  # degree of the spline\n",
    "        t = [0, 1, 2, 3, 4, 5]  # knots vector\n",
    "\n",
    "        x = np.linspace(0, 5, 1000, endpoint=False)\n",
    "        t = np.r_[[np.min(t)]*k, t, [np.max(t)]*k]\n",
    "\n",
    "        n = len(t) - k - 1\n",
    "        for i in range(n):\n",
    "                y = np.array([B(ix, k, i, t) for ix in x])\n",
    "                plt.plot(x, y, label=f'i = {i}')\n",
    "\n",
    "        plt.title(f'Basis functions (k = {k}, knots = {t})')\n",
    "        plt.show()\n",
    "\n",
    "main()"
   ]
  },
  {
   "cell_type": "code",
   "execution_count": null,
   "id": "8346af9b",
   "metadata": {},
   "outputs": [],
   "source": [
    "x = np.linspace(0, 5, 1000, endpoint=False)\n",
    "k = 1\n",
    "t = [0, 1, 2, 3, 4, 5] \n",
    "t = np.r_[[np.min(t)]*k, t, [np.max(t)]*k]\n",
    "t"
   ]
  }
 ],
 "metadata": {
  "kernelspec": {
   "display_name": ".venv",
   "language": "python",
   "name": "python3"
  },
  "language_info": {
   "codemirror_mode": {
    "name": "ipython",
    "version": 3
   },
   "file_extension": ".py",
   "mimetype": "text/x-python",
   "name": "python",
   "nbconvert_exporter": "python",
   "pygments_lexer": "ipython3",
   "version": "3.12.11"
  }
 },
 "nbformat": 4,
 "nbformat_minor": 5
}
