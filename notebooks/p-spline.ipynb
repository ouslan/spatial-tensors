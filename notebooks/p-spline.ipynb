{
 "cells": [
  {
   "cell_type": "code",
   "execution_count": null,
   "id": "eb7fa1ab",
   "metadata": {},
   "outputs": [],
   "source": [
    "import numpy as np\n",
    "import pandas as pd\n",
    "from patsy import dmatrix\n",
    "import matplotlib.pyplot as plt\n",
    "from sklearn.linear_model import Ridge\n",
    "\n",
    "# Sample data\n",
    "x = np.linspace(0, 10, 100)\n",
    "df = pd.DataFrame({'x': x})\n",
    "\n",
    "# Generate B-spline basis (not penalized yet)\n",
    "spline_basis = dmatrix(\"bs(x, df=10, degree=3, include_intercept=False)\", data=df)\n",
    "basis_array = np.asarray(spline_basis)\n",
    "\n",
    "# Target variable: make a synthetic one\n",
    "y = np.sin(x) + 0.1 * np.random.randn(len(x))\n",
    "\n",
    "# Ridge regression on spline basis (P-spline equivalent)\n",
    "ridge = Ridge(alpha=5.0)  # alpha controls the amount of penalization\n",
    "ridge.fit(spline_basis, y)\n",
    "\n",
    "# Predict\n",
    "y_pred = ridge.predict(spline_basis)\n",
    "\n",
    "# Plot\n",
    "plt.plot(x, y, label='Data')\n",
    "plt.plot(x, y_pred, label='P-spline (Ridge on B-splines)')\n",
    "plt.legend()\n",
    "plt.show()\n"
   ]
  },
  {
   "cell_type": "code",
   "execution_count": null,
   "id": "2d43be71",
   "metadata": {},
   "outputs": [],
   "source": [
    "# Plot each basis function\n",
    "plt.figure(figsize=(10, 6))\n",
    "for i in range(basis_array.shape[1]):\n",
    "    plt.plot(x, basis_array[:, i], label=f\"Basis {i+1}\")\n",
    "\n",
    "plt.title(\"B-spline Basis Functions (from patsy.bs)\")\n",
    "plt.xlabel(\"x\")\n",
    "plt.ylabel(\"Basis Function Value\")\n",
    "plt.legend(ncol=2, fontsize=9)\n",
    "plt.grid(True)\n",
    "plt.tight_layout()\n",
    "plt.show()\n"
   ]
  },
  {
   "cell_type": "code",
   "execution_count": null,
   "id": "e915fd4a",
   "metadata": {},
   "outputs": [],
   "source": [
    "import numpy as np\n",
    "import pandas as pd\n",
    "import matplotlib.pyplot as plt\n",
    "from patsy import dmatrix\n",
    "\n",
    "# Input data\n",
    "x = np.linspace(0, 10, 200)\n",
    "df = pd.DataFrame({'x': x})\n",
    "\n",
    "# Generate B-spline basis\n",
    "basis = dmatrix(\"bs(x, df=10, degree=3, include_intercept=True)\", data=df)\n",
    "B = np.asarray(basis)\n",
    "\n",
    "# Plot B-spline basis functions\n",
    "plt.figure(figsize=(10, 6))\n",
    "for i in range(B.shape[1]):\n",
    "    plt.plot(x, B[:, i], label=f'B{i}')\n",
    "plt.title(\"B-spline Basis Functions\")\n",
    "plt.xlabel(\"x\")\n",
    "plt.ylabel(\"Basis Value\")\n",
    "plt.grid(True)\n",
    "plt.tight_layout()\n",
    "plt.show()\n"
   ]
  },
  {
   "cell_type": "code",
   "execution_count": null,
   "id": "5655e43e",
   "metadata": {},
   "outputs": [],
   "source": [
    "# True underlying function\n",
    "true_y = np.sin(x) + 0.5 * np.cos(1.5 * x)\n",
    "# Noisy observations\n",
    "y_obs = true_y + np.random.normal(0, 0.2, size=x.shape[0])\n"
   ]
  },
  {
   "cell_type": "code",
   "execution_count": null,
   "id": "3d518eb9",
   "metadata": {},
   "outputs": [],
   "source": [
    "import pymc as pm\n",
    "import arviz as az\n",
    "\n",
    "# Number of basis functions\n",
    "n_basis = B.shape[1]\n",
    "\n",
    "with pm.Model() as model:\n",
    "    # Prior: smoothness via 2nd-order random walk\n",
    "    sigma_rw = pm.HalfNormal(\"sigma_rw\", 1.0)\n",
    "\n",
    "    # 2nd-order random walk prior for spline coefficients\n",
    "    beta = pm.GaussianRandomWalk(\"beta\", sigma=sigma_rw, shape=n_basis)\n",
    "\n",
    "    # Expected value\n",
    "    mu = pm.math.dot(B, beta)\n",
    "\n",
    "    # Observation noise\n",
    "    sigma = pm.HalfNormal(\"sigma\", 1.0)\n",
    "    y = pm.Normal(\"y\", mu=mu, sigma=sigma, observed=y_obs)\n",
    "\n",
    "    # Sample from posterior\n",
    "    trace = pm.sample(1000, tune=1000, target_accept=0.95, return_inferencedata=True)\n"
   ]
  },
  {
   "cell_type": "code",
   "execution_count": null,
   "id": "b1a41427",
   "metadata": {},
   "outputs": [],
   "source": [
    "# Posterior samples of fitted curve\n",
    "posterior_mu = trace.posterior[\"beta\"].stack(draws=(\"chain\", \"draw\"))\n",
    "mu_samples = B @ posterior_mu.values\n",
    "\n",
    "# Compute mean and HDI\n",
    "mu_mean = mu_samples.mean(axis=1)\n",
    "mu_hdi = az.hdi(mu_samples.T, hdi_prob=0.94)\n",
    "\n",
    "# Plot\n",
    "plt.figure(figsize=(10, 6))\n",
    "plt.plot(x, y_obs, 'o', alpha=0.5, label='Observed')\n",
    "plt.plot(x, true_y, label='True function', linestyle='--')\n",
    "plt.plot(x, mu_mean, label='Posterior mean', color='k')\n",
    "plt.fill_between(x, mu_hdi[:, 0], mu_hdi[:, 1], color='gray', alpha=0.3, label='94% HDI')\n",
    "plt.legend()\n",
    "plt.title(\"Bayesian P-spline Fit with PyMC\")\n",
    "plt.xlabel(\"x\")\n",
    "plt.ylabel(\"y\")\n",
    "plt.grid(True)\n",
    "plt.tight_layout()\n",
    "plt.show()\n"
   ]
  },
  {
   "cell_type": "code",
   "execution_count": null,
   "id": "0213ec32",
   "metadata": {},
   "outputs": [],
   "source": [
    "import numpy as np\n",
    "import pandas as pd\n",
    "import pymc as pm\n",
    "from patsy import dmatrix\n",
    "import matplotlib.pyplot as plt\n"
   ]
  },
  {
   "cell_type": "code",
   "execution_count": null,
   "id": "2a44652c",
   "metadata": {},
   "outputs": [],
   "source": [
    "np.random.seed(42)\n",
    "n = 100\n",
    "x = np.linspace(0, 10, n)\n",
    "y_true = np.sin(x)\n",
    "y = y_true + np.random.normal(scale=0.3, size=n)\n",
    "\n",
    "data = pd.DataFrame({'x': x, 'y': y})\n"
   ]
  },
  {
   "cell_type": "code",
   "execution_count": null,
   "id": "533b2408",
   "metadata": {},
   "outputs": [],
   "source": [
    "# Create B-spline basis (degree=3 cubic, df=10, include intercept)\n",
    "spline_basis = dmatrix(\"bs(x, df=10, degree=3, include_intercept=True)\", data)\n",
    "X_spline = np.asarray(spline_basis)\n",
    "n_basis = X_spline.shape[1]\n"
   ]
  },
  {
   "cell_type": "code",
   "execution_count": null,
   "id": "8512df17",
   "metadata": {},
   "outputs": [],
   "source": [
    "with pm.Model() as model:\n",
    "    # Prior on spline coefficients with smoothing via a random walk (difference penalty)\n",
    "    sigma_beta = pm.HalfNormal(\"sigma_beta\", sigma=1)\n",
    "    \n",
    "    # Use a random walk (order 2) for smoothness - typical for P-splines\n",
    "    beta = pm.GaussianRandomWalk(\"beta\", sigma=sigma_beta, shape=n_basis)\n",
    "    \n",
    "    # Linear combination of spline basis and coefficients\n",
    "    mu = pm.math.dot(X_spline, beta)\n",
    "    \n",
    "    # Likelihood\n",
    "    sigma = pm.HalfNormal(\"sigma\", sigma=1)\n",
    "    y_obs = pm.Normal(\"y_obs\", mu=mu, sigma=sigma, observed=y)\n",
    "    \n",
    "    # Inference\n",
    "    trace = pm.sample(1000, tune=1000, target_accept=0.9)\n",
    "\n"
   ]
  },
  {
   "cell_type": "code",
   "execution_count": null,
   "id": "b64577a3",
   "metadata": {},
   "outputs": [],
   "source": [
    "with model:\n",
    "    posterior_predictive = pm.sample_posterior_predictive(trace)\n",
    "\n",
    "y_pred = posterior_predictive.posterior_predictive[\"y_obs\"].values\n",
    "\n",
    "# Plot results\n",
    "plt.figure(figsize=(10, 6))\n",
    "plt.scatter(x, y, label=\"Observed\")\n",
    "plt.plot(x, y_true, label=\"True\", color='black', linestyle='--')\n",
    "plt.plot(x, y_pred.mean(axis=(0, 1)), label=\"Fitted\", color='red')\n",
    "plt.fill_between(\n",
    "    x,\n",
    "    np.percentile(y_pred, 5, axis=(0, 1)),\n",
    "    np.percentile(y_pred, 95, axis=(0, 1)),\n",
    "    color=\"red\", alpha=0.3\n",
    ")\n",
    "plt.legend()\n",
    "plt.title(\"P-spline fit using PyMC and Patsy\")\n",
    "plt.xlabel(\"x\")\n",
    "plt.ylabel(\"y\")\n",
    "plt.show()\n"
   ]
  }
 ],
 "metadata": {
  "kernelspec": {
   "display_name": ".venv",
   "language": "python",
   "name": "python3"
  },
  "language_info": {
   "codemirror_mode": {
    "name": "ipython",
    "version": 3
   },
   "file_extension": ".py",
   "mimetype": "text/x-python",
   "name": "python",
   "nbconvert_exporter": "python",
   "pygments_lexer": "ipython3",
   "version": "3.12.11"
  }
 },
 "nbformat": 4,
 "nbformat_minor": 5
}
