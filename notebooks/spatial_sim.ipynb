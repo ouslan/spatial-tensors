{
 "cells": [
  {
   "cell_type": "code",
   "execution_count": null,
   "id": "82198e90",
   "metadata": {},
   "outputs": [],
   "source": [
    "from numba.core.types.functions import _ResolutionFailures\n",
    "from src.data.data_reg import SpatialReg\n",
    "import statsmodels.api as sm\n",
    "import numpy as np\n",
    "import arviz as az\n",
    "import pymc as pm\n",
    "import bambi as bmb\n",
    "from pysal.lib import weights\n",
    "from spreg import Panel_FE_Lag\n",
    "\n",
    "sr = SpatialReg(n=10)"
   ]
  },
  {
   "cell_type": "code",
   "execution_count": null,
   "id": "ea63307e",
   "metadata": {},
   "outputs": [],
   "source": [
    "gdf = sr.spatial_panel(rho=.6, time=40)\n",
    "gdf[gdf[\"time\"]==1].plot()"
   ]
  },
  {
   "cell_type": "code",
   "execution_count": null,
   "id": "0037162f",
   "metadata": {},
   "outputs": [],
   "source": [
    "gdf[gdf[\"time\"]==1].plot(\"y_d\")"
   ]
  },
  {
   "cell_type": "code",
   "execution_count": null,
   "id": "328e23d6",
   "metadata": {},
   "outputs": [],
   "source": [
    "gdf[gdf[\"time\"]==1].plot(\"X_2\")"
   ]
  },
  {
   "cell_type": "code",
   "execution_count": null,
   "id": "be72fe89",
   "metadata": {},
   "outputs": [],
   "source": [
    "xb = gdf[[\"X_1\",\"X_2\",\"X_3\",\"w_d\"]].values.reshape(-1,4)\n",
    "y_d = gdf[\"y_d\"].values.reshape(-1,1)\n",
    "X = sm.add_constant(xb)\n",
    "results = sm.OLS(y_d, X).fit()\n",
    "print(results.summary())"
   ]
  },
  {
   "cell_type": "code",
   "execution_count": null,
   "id": "8a3856f0",
   "metadata": {
    "lines_to_next_cell": 2
   },
   "outputs": [],
   "source": []
  },
  {
   "cell_type": "code",
   "execution_count": null,
   "id": "76344e0b",
   "metadata": {},
   "outputs": [],
   "source": [
    "model = bmb.Model(\"y_d ~ X_1 + X_2 + X_3 + w_d\", gdf.drop(\"geometry\", axis=1)\n",
    ")\n",
    "results = model.fit()\n",
    "az.plot_trace(results, figsize=(10, 7))"
   ]
  },
  {
   "cell_type": "code",
   "execution_count": null,
   "id": "29d3b7ec",
   "metadata": {
    "lines_to_next_cell": 2
   },
   "outputs": [],
   "source": [
    "az.summary(results)"
   ]
  }
 ],
 "metadata": {
  "kernelspec": {
   "display_name": ".venv",
   "language": "python",
   "name": "python3"
  },
  "language_info": {
   "codemirror_mode": {
    "name": "ipython",
    "version": 3
   },
   "file_extension": ".py",
   "mimetype": "text/x-python",
   "name": "python",
   "nbconvert_exporter": "python",
   "pygments_lexer": "ipython3",
   "version": "3.12.11"
  }
 },
 "nbformat": 4,
 "nbformat_minor": 5
}
